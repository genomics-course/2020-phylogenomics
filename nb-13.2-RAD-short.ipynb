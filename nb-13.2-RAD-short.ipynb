{
 "cells": [
  {
   "cell_type": "markdown",
   "metadata": {},
   "source": [
    "# Notebook 13.2: Intro to RAD-seq\n",
    "\n",
    "### Learning objectives: \n",
    "\n",
    "By the end of this notebook you will:\n",
    "\n",
    "1. Understand how restriction digestion can be used to subsample genomes. \n",
    "2. Have a general understanding of how genomic libraries are prepared for sequencing.\n",
    "\n",
    "### Recommended readings:\n",
    "\n",
    "1. Andrews, Kimberly R., Jeffrey M. Good, Michael R. Miller, Gordon Luikart, and Paul A. Hohenlohe. 2016. “Harnessing the Power of RADseq for Ecological and Evolutionary Genomics.” Nature Reviews Genetics 17 (2): 81. https://doi.org/10.1038/nrg.2015.28."
   ]
  },
  {
   "cell_type": "code",
   "execution_count": 1,
   "metadata": {},
   "outputs": [],
   "source": [
    "import numpy as np"
   ]
  },
  {
   "cell_type": "markdown",
   "metadata": {},
   "source": [
    "### What is RAD-seq?\n",
    "\n",
    "*Restriction-site associated DNA (RAD) sequencing* is a method for subsampling genomes to concentrate sequenced reads onto particular portions of the genome rather than being spread randomly across the entire genome. In contrast to 'whole-genome sequencing' (WGS) approaches RAD-seq is considered a 'reduced-representation' sequencing method. \n",
    "\n",
    "Despite this term, the RAD methodology itself is not a different form of *sequencing* than we've seen before -- most RAD-seq libraries are sequenced on Illumina or similar devices to produce short reads -- rather, RAD-seq is a protocol for preparing your DNA before you put it on the sequencing machine such that only a subset of regions of the genome will be sequenced. "
   ]
  },
  {
   "cell_type": "markdown",
   "metadata": {},
   "source": [
    "### Why RAD-seq?\n",
    "There are many types of questions we can investigate using genomics that do not require sequencing the entire genome. Most notably, this includes most forms of *comparative genomics* where we are interested in the *differences* between individuals, populations or species. \n",
    "\n",
    "As we've discussed before, if you want to know about sequence differences at an individual gene among a number of different species then the most efficient way to answer this is not to sequence their entire genomes. Instead, it is much cheaper to use Sanger sequencing, or to design probes to target just that particular region of the genome (a topic we'll return to later)."
   ]
  },
  {
   "cell_type": "markdown",
   "metadata": {},
   "source": [
    "### Genomic library preparation\n",
    "Genomic library preparation for Illumina sequencing involves combining oligonucleotide molecules in solution, in a particular order, to build larger molecules that will bind by complementarity to the sequencing machine where they can be read using \"sequencing by synthesis\". Below we will build oligonucleotides bioinformatically for a RAD-seq library following the Original RAD method (*sensu* Andrews et al.). Our library preparation has two distinct goals:\n",
    "\n",
    "+ digest the DNA with the `PstI` restriction enzyme (CTGCA^G) \n",
    "+ ligate unique six-base barcodes (e.g., AACCTT) to the overhang.\n",
    "+ ligate Illumina adapters to the molecule.  \n"
   ]
  },
  {
   "cell_type": "code",
   "execution_count": 2,
   "metadata": {},
   "outputs": [],
   "source": [
    "# The TruSeq Illumina adapters\n",
    "ILLUMINA_ADAPTER_1 = \"AGATCGGAAGAGCACACGTCTGAACTCCAGTCA\"\n",
    "ILLUMINA_ADAPTER_2 = \"AGATCGGAAGAGCGTCGTGTAGGGAAAGAGTGT\""
   ]
  },
  {
   "cell_type": "markdown",
   "metadata": {},
   "source": [
    "### Let's simulate the single-digest original RAD-seq method. \n",
    "\n",
    "We will use code to bioinformatically follow the molecular protocol described in Figure 1 by Andrews et al. for how a RAD-seq library is prepared in the \"Original RAD\" method. "
   ]
  },
  {
   "cell_type": "code",
   "execution_count": 3,
   "metadata": {},
   "outputs": [],
   "source": [
    "def random_sequence(N):\n",
    "    \"returns a randomly generated DNA scaffold of length N as a string\"\n",
    "    return \"\".join(np.random.choice(list(\"ACGT\"), size=N))\n",
    "\n",
    "\n",
    "def restriction_digest(sequence, recognition, cut):\n",
    "    \"\"\"\n",
    "    restriction digest a genome sequence at the given (recognition) site and\n",
    "    split the site at the given position (cut) to leave overhangs. Returns one\n",
    "    strand of the resulting fragment: e.g., for recognition=CTGCAG, cut=5 this\n",
    "    returns the 5' to 3' strand below.\n",
    "       5' ----G[seq]CTGCA 3'\n",
    "       3' ACGTC[seq]G---- 5'\n",
    "    \"\"\"\n",
    "    # cut sequence at every occurence of recognition site\n",
    "    fragments = sequence.split(recognition)\n",
    "    \n",
    "    # add overhang that results from sequence splitting within the recognition site\n",
    "    fragments = [recognition[cut:] + i + recognition[:cut] for i in fragments]\n",
    "    return fragments\n",
    "    \n",
    "    \n",
    "def complement(sequence):\n",
    "    \"return the complement of a sequence\"\n",
    "    return (sequence\n",
    "              .replace(\"C\", \"g\")\n",
    "              .replace(\"G\", \"c\")\n",
    "              .replace(\"T\", \"a\")\n",
    "              .replace(\"A\", \"t\")\n",
    "              .upper())\n",
    "\n",
    "\n",
    "def ligate_barcoded_adapters(fragments, recognition, cut, barcode):\n",
    "    \"\"\"\n",
    "    Ligates a barcoded Illumina adapter to each fragment if it has a cleaved\n",
    "    sequence overhang matching the recognition site. This will fill the molecule\n",
    "    so that both ends have full recognition sequence and Illumina adapter.\n",
    "    \"\"\"\n",
    "    ligated = []\n",
    "    for fragment in fragments:\n",
    "        \n",
    "        # adapter has the recognition overhang complement attached to it so\n",
    "        # it can bind to 5' strand and complement with 3' strand.\n",
    "        # ----G[seq]CTGCA   <- attaches left side of here   \n",
    "        # ACGTC[seq]G---- \n",
    "        ligate_to_this_strand = \"{}{}{}\".format(\n",
    "            complement(ILLUMINA_ADAPTER_1)[::-1], \n",
    "            complement(barcode)[::-1],\n",
    "            recognition[-cut:-(len(recognition) - cut)],   \n",
    "        )\n",
    "        \n",
    "        # attaches to this strand and complements overhang on other strand.\n",
    "        # ----G[seq]CTGCA   <- attaches here\n",
    "        # ACGTC[seq]G----   \n",
    "        ligate_to_other_strand = \"{}{}\".format(\n",
    "            barcode, \n",
    "            ILLUMINA_ADAPTER_1,\n",
    "        )\n",
    "        \n",
    "        # the full molecule has the fragment in the middle\n",
    "        molecule = \"{}{}{}\".format(\n",
    "            ligate_to_this_strand,\n",
    "            fragment,\n",
    "            ligate_to_other_strand,\n",
    "        )\n",
    "        ligated.append(molecule)\n",
    "    return ligated"
   ]
  },
  {
   "cell_type": "markdown",
   "metadata": {},
   "source": [
    "### Steps 1 and 2:\n",
    "Here we (1) digest the genome into smaller fragments, and (2) ligate barcoded adapters to the fragments. Barcodes are unique sequences of DNA (e.g., AATTCC or TTAACC). For every individual we can ligate a different barcode to their genome fragments which will allow us to uniquely identify which individual the sequence came from. The Illumina adapter sequence is also added at this step. The Illumina adapter is necessary for the molecule to bind to the Illumina sequencing plate. "
   ]
  },
  {
   "cell_type": "code",
   "execution_count": 4,
   "metadata": {},
   "outputs": [],
   "source": [
    "# generate a random genome sequence\n",
    "scaffold = random_sequence(1000000)\n",
    "\n",
    "# cut up the genome with a restriction enzyme\n",
    "fragments = restriction_digest(scaffold, \"CTGCAG\", 5)\n",
    "\n",
    "# attach a barcode (AATTCC) and adapter to the overhanging end sequence (CTGCA)\n",
    "barcoded_fragments = ligate_barcoded_adapters(fragments, \"CTGCAG\", 5, \"AATTCC\")"
   ]
  },
  {
   "cell_type": "markdown",
   "metadata": {},
   "source": [
    "<div class=\"alert alert-success\">\n",
    "    <b>[1] Question:</b> \n",
    "    How many fragments are in the library after the restriction digestion? Calculate it from the fragments or barcoded_fragments lists. If we used a restriction enzyme with a longer recognition sequence would it produce more or fewer fragments?\n",
    "</div>"
   ]
  },
  {
   "cell_type": "code",
   "execution_count": 8,
   "metadata": {},
   "outputs": [
    {
     "data": {
      "text/plain": [
       "245"
      ]
     },
     "execution_count": 8,
     "metadata": {},
     "output_type": "execute_result"
    }
   ],
   "source": [
    "# answer here\n",
    "len(barcoded_fragments)"
   ]
  },
  {
   "cell_type": "markdown",
   "metadata": {},
   "source": [
    "### Let's look at the first fragment with adapters and barcodes ligated\n",
    "We can select the first fragment in the list of barcoded fragments that we just produced and examine its sequence. This is an oligonucleotide, a molecule composed of multiple small nucleotide sequences that have been ligated together. It is a double stranded DNA molecule and as such one strand is complementary to the other. One strand on either end of the molecule contains the same restriction overhang after the genome is restriction digested, and thus we can ligate the same barcoded adapter to each end. Below we print just one strand to represent the final molecule, and thus on one end we see the reverse complement of the barcoded adapter, and at the other end we see the normal barcoded adapter sequence. In between is the fragmented sequence of the genome. "
   ]
  },
  {
   "cell_type": "code",
   "execution_count": 9,
   "metadata": {},
   "outputs": [
    {
     "name": "stdout",
     "output_type": "stream",
     "text": [
      "TGACTGGAGTTCAGACGTGTGCTCTTCCGATCT       adapter I (revcomp)\n",
      "GGAATT                                  barcode (revcomp)\n",
      "TGCAG                                   restriction overhang (revcomp)\n",
      "GCCAGTATTTGCCCGCCACGAACCTTTTCG...       5' end of strand\n",
      "...TGTAGAATGGTCGTCTCCTGTCTGCTTTCA       3' end of strand\n",
      "CTGCA                                   restriction overhang\n",
      "AATTCC                                  barcode\n",
      "AGATCGGAAGAGCACACGTCTGAACTCCAGTCA       adapter I\n"
     ]
    }
   ],
   "source": [
    "# select first fragmented molecule\n",
    "fragment = barcoded_fragments[0]\n",
    "\n",
    "# print features of the molecule\n",
    "print(\"{:<40}adapter I (revcomp)\".format(fragment[:33]))\n",
    "print(\"{:<40}barcode (revcomp)\".format(fragment[33:39]))\n",
    "print(\"{:<40}restriction overhang (revcomp)\".format(fragment[39:44]))\n",
    "print(\"{}...       5' end of strand\".format(fragment[44:74]))\n",
    "print(\"...{}       3' end of strand\".format(fragment[-74:-44]))\n",
    "print(\"{:<40}restriction overhang\".format(fragment[-44:-39]))\n",
    "print(\"{:<40}barcode\".format(fragment[-39:-33]))\n",
    "print(\"{:<40}adapter I\".format(fragment[-33:]))"
   ]
  },
  {
   "cell_type": "markdown",
   "metadata": {},
   "source": [
    "### And the same for another fragment\n",
    "Here we print the same information for another fragment in the list. You can see that the nucleotide sequence before and after the fragment are the same as in the molecule above, but the sequence of the DNA fragment in the middle is different. "
   ]
  },
  {
   "cell_type": "code",
   "execution_count": 10,
   "metadata": {},
   "outputs": [
    {
     "name": "stdout",
     "output_type": "stream",
     "text": [
      "TGACTGGAGTTCAGACGTGTGCTCTTCCGATCT       adapter I (revcomp)\n",
      "GGAATT                                  barcode (revcomp)\n",
      "TGCAG                                   restriction overhang (revcomp)\n",
      "CTCATGGAATGACTTTCGGTCAGTGCAAGG...       5' end of strand\n",
      "...GGTCGCATCGGCGAACAACGCGGTCCGATA       3' end of strand\n",
      "CTGCA                                   restriction overhang\n",
      "AATTCC                                  barcode\n",
      "AGATCGGAAGAGCACACGTCTGAACTCCAGTCA       adapter I\n"
     ]
    }
   ],
   "source": [
    "# select third fragmented molecule\n",
    "fragment = barcoded_fragments[3]\n",
    "\n",
    "# print features of the molecule\n",
    "print(\"{:<40}adapter I (revcomp)\".format(fragment[:33]))\n",
    "print(\"{:<40}barcode (revcomp)\".format(fragment[33:39]))\n",
    "print(\"{:<40}restriction overhang (revcomp)\".format(fragment[39:44]))\n",
    "print(\"{}...       5' end of strand\".format(fragment[44:74]))\n",
    "print(\"...{}       3' end of strand\".format(fragment[-74:-44]))\n",
    "print(\"{:<40}restriction overhang\".format(fragment[-44:-39]))\n",
    "print(\"{:<40}barcode\".format(fragment[-39:-33]))\n",
    "print(\"{:<40}adapter I\".format(fragment[-33:]))"
   ]
  },
  {
   "cell_type": "markdown",
   "metadata": {},
   "source": [
    "### Step3: We can repeat this step for many different individuals \n",
    "The next step in the protocol is to *multiplex* samples, which means that we can combine the fragments from many individuals together into a single solution. This is OK to do since we've uniquely barcoded the sequences from each individual and so we can separate them later using bioinformatics based on these sequences. Let's generate fragments for four different individuals by using four different barcodes. You can see that we use a random series of six nucleotides as the 4 different barcodes. Ideally, these should be at least two bases different from each other so that even if sequencing errors occur during sequencing we will still be able to assign the reads to samples accurately. "
   ]
  },
  {
   "cell_type": "code",
   "execution_count": 11,
   "metadata": {},
   "outputs": [],
   "source": [
    "# generate a random genome sequence\n",
    "scaffold = random_sequence(1000000)\n",
    "\n",
    "# cut up the genome with a restriction enzyme\n",
    "fragments = restriction_digest(scaffold, \"CTGCAG\", 5)\n",
    "\n",
    "# attach a barcode and adapter to fragments from four different individuals\n",
    "bfrags1 = ligate_barcoded_adapters(fragments, \"CTGCAG\", 5, \"AATTCC\")\n",
    "bfrags2 = ligate_barcoded_adapters(fragments, \"CTGCAG\", 5, \"TTCCGG\")\n",
    "bfrags3 = ligate_barcoded_adapters(fragments, \"CTGCAG\", 5, \"TGCATG\")\n",
    "bfrags4 = ligate_barcoded_adapters(fragments, \"CTGCAG\", 5, \"CCAACC\")\n",
    "\n",
    "# combine all samples into multiplexed collection\n",
    "all_fragments = bfrags1 + bfrags2 + bfrags3 + bfrags4"
   ]
  },
  {
   "cell_type": "markdown",
   "metadata": {},
   "source": [
    "### Steps 4 & 5: Size selection\n",
    "The paper by Andrews et al. describes *size selection*. This refers to steps in the preparation of a genomic library that are required so that the size of fragments that are put onto the sequencing machine are in a proper size range. For Illumina sequencing the fragments should be around 300-1000bp in length. Among the different RADseq library preparation protocols some methods (e.g., GBS and ddRAD) simply select fragments that happen to be in the correct range after restriction digestion. The original RAD method differs by using a *shearing* step, which involves breaking the DNA into smaller pieces. After shearing fragments that have been broken to be near the desired size range are then selected. \n",
    "\n",
    "Following on our steps above for preparing an original RAD library bioinformatically, we can emulate the shearing step by bioinformatically breaking the fragments into smaller pieces. Because the fragments have adapters ligated to both ends before they are sheared, the shearing will result in two or more smaller fragments that will have either zero, one or two ligated adapters attached to either end. "
   ]
  },
  {
   "cell_type": "code",
   "execution_count": 12,
   "metadata": {},
   "outputs": [],
   "source": [
    "def shear_DNA_to_size_select(fragments, size):\n",
    "    \"randomly shears fragments down to the entered size\"\n",
    "    sheared_fragments = []\n",
    "    \n",
    "    # iterate over fragments\n",
    "    for fragment in fragments:\n",
    "        \n",
    "        # get breakpoints for shearing into chunks of size 'size'\n",
    "        nfrags = max(2, int(len(fragment) / size))\n",
    "        splits = np.linspace(0, len(fragment), nfrags).astype(int)\n",
    "        \n",
    "        # slice out bits to represent sheared fragments\n",
    "        idx = 0\n",
    "        for end in splits[1:]:\n",
    "            fragbit = fragment[idx:end]\n",
    "            sheared_fragments.append(fragbit)\n",
    "            idx = end\n",
    "    return sheared_fragments"
   ]
  },
  {
   "cell_type": "code",
   "execution_count": 13,
   "metadata": {},
   "outputs": [],
   "source": [
    "# break into 300bp bits and only keep bits \n",
    "sheared_fragments = shear_DNA_to_size_select(all_fragments, 300)\n"
   ]
  },
  {
   "cell_type": "markdown",
   "metadata": {},
   "source": [
    "<div class=\"alert alert-success\">\n",
    "    <b>[2] Question:</b> \n",
    "    How many fragments are in the library after shearing? What type of sequences do you expect to find at the ends of the fragments after shearing? How is this different from the expectation after the initial restriction digestion? Answer in Markdown below.\n",
    "</div>"
   ]
  },
  {
   "cell_type": "code",
   "execution_count": 14,
   "metadata": {},
   "outputs": [
    {
     "data": {
      "text/plain": [
       "12308"
      ]
     },
     "execution_count": 14,
     "metadata": {},
     "output_type": "execute_result"
    }
   ],
   "source": [
    "# answer here\n",
    "len(sheared_fragments)"
   ]
  },
  {
   "cell_type": "markdown",
   "metadata": {},
   "source": [
    "### Steps 6, 7, 8: Ligate Illumina adapter 2\n",
    "\n",
    "Ligating the second Illumina adapter is a step that varies widely among different RAD preparation protocols. In the original RAD prep it involves repairing the sheared end \n",
    "and attaching a poly-A repeat followed by the second Illumina adapter. The resulting fragments will then have the Illumina adapter 2 present either on zero, one or two ends. "
   ]
  },
  {
   "cell_type": "code",
   "execution_count": 15,
   "metadata": {},
   "outputs": [],
   "source": [
    "def end_repair_and_adapter_ligation(fragments):\n",
    "    \"\"\"\n",
    "    Add poly-A to non-adapter end of sheared fragments and attach the \n",
    "    Illumina adapter II to this blunt end.\n",
    "    \"\"\"\n",
    "    ligated_fragments = []\n",
    "    \n",
    "    # iterate through list\n",
    "    for frag in fragments:  \n",
    "        \n",
    "        # add poly-A tail to 3' of other strand if this fragment has ILLumina 1 at 3' end\n",
    "        if frag[:33] != complement(ILLUMINA_ADAPTER_1)[::-1]:\n",
    "            frag = \"{}{}{}\".format(\n",
    "                complement(ILLUMINA_ADAPTER_2)[::-1],\n",
    "                complement(\"AAAAAAAAAAAAAA\"),\n",
    "                frag,\n",
    "            )\n",
    "        \n",
    "        # add poly-A tail to 3' end if this fragment has ILLumina 1 at 5' end\n",
    "        if frag[-33:] != ILLUMINA_ADAPTER_1:\n",
    "            frag = \"{}{}{}\".format(\n",
    "                frag,\n",
    "                \"AAAAAAAAAAAAAA\",\n",
    "                ILLUMINA_ADAPTER_2,\n",
    "            )\n",
    "            \n",
    "        # store new end repaired fragment\n",
    "        ligated_fragments.append(frag)\n",
    "    return ligated_fragments"
   ]
  },
  {
   "cell_type": "code",
   "execution_count": 16,
   "metadata": {},
   "outputs": [],
   "source": [
    "# ligate poly-A + Illumina adapter 2 to sheared ends\n",
    "oligonucleotides = end_repair_and_adapter_ligation(sheared_fragments)"
   ]
  },
  {
   "cell_type": "markdown",
   "metadata": {},
   "source": [
    "### Step 9: PCR amplification\n",
    "\n",
    "Polymerase chain reaction (PCR) is a method widely used in molecular biology that takes advantage of the process of DNA replication to preferentially replicate some sequences of DNA more than others, and in doing so to enrich a library for the part that we plan to sequence. The preferential replication of some regions over others is accomplished using *primers* which initiate the DNA replication process. \n",
    "\n",
    "In this library we use primers that will amplify any molecule that has **both** the Illumina adapter I and Illumina adapter II at either end. Remember, adapter I is attached to the restriction digested end, and adapter II was ligated to any randomly sheared end. Thus there are many molecules in our library currently that have adapter II at both ends, or sometimes adapter I at both ends. We can effectively remove those by replicating only the molecules that have one sheared end and one digested end (they have both types of adapters). After a few cycles of PCR these molecules will make up almost the entire library. Our function below emulates this by simply removing all oligonucleotides from the library that do not have both adapters. In a real PCR amplification the number of copies of each molecule would increase exponentially with additional cycles. "
   ]
  },
  {
   "cell_type": "code",
   "execution_count": 17,
   "metadata": {},
   "outputs": [],
   "source": [
    "def PCR(fragments):\n",
    "    \"Only amplify fragments with both Illumina adapters to enrich library\"\n",
    "    library = []\n",
    "    for fragment in fragments:\n",
    "        \n",
    "        # keep oligos with adapter1...adapter2\n",
    "        if fragment[:33] == complement(ILLUMINA_ADAPTER_1)[::-1]:\n",
    "            if fragment[-33:] == ILLUMINA_ADAPTER_2:\n",
    "                library.append(fragment)\n",
    "                \n",
    "        # keep oligos with adapter2...adapter1. Return revcomp'd\n",
    "        if fragment[:33] == complement(ILLUMINA_ADAPTER_2)[::-1]:\n",
    "            if fragment[-33:] == ILLUMINA_ADAPTER_1:\n",
    "                library.append(complement(fragment)[::-1])\n",
    "                \n",
    "    return library        "
   ]
  },
  {
   "cell_type": "code",
   "execution_count": 18,
   "metadata": {},
   "outputs": [],
   "source": [
    "# PCR amplify to select the final library for sequencing \n",
    "library = PCR(oligonucleotides)\n"
   ]
  },
  {
   "cell_type": "markdown",
   "metadata": {},
   "source": [
    "### The final sequenced molecules\n",
    "\n",
    "Now that we've PCR amplified our library it contains the final template of molecules that will bind to the Illumina sequencing plate for sequencing. You can see the format of one of these oligonucleotides below. "
   ]
  },
  {
   "cell_type": "code",
   "execution_count": 19,
   "metadata": {},
   "outputs": [
    {
     "name": "stdout",
     "output_type": "stream",
     "text": [
      "TGACTGGAGTTCAGACGTGTGCTCTTCCGATCT       adapter I (revcomp)\n",
      "GGAATT                                  barcode (revcomp)\n",
      "TGCAG                                   restriction overhang (revcomp)\n",
      "GCGCGTTTATCGCCACTATAATCAGGTGTA...       5' end of strand\n",
      "...TTGCGGCGTGTCTAAGCGGATGGATAGAAA       3' end of strand\n",
      "AAAAAAAAAA                              poly-A tail\n",
      "AGATCGGAAGAGCGTCGTGTAGGGAAAGAGTGT       adapter II\n"
     ]
    }
   ],
   "source": [
    "# select third fragmented molecule\n",
    "fragment = library[10]\n",
    "\n",
    "# print features of the molecule\n",
    "print(\"{:<40}adapter I (revcomp)\".format(fragment[:33]))\n",
    "print(\"{:<40}barcode (revcomp)\".format(fragment[33:39]))\n",
    "print(\"{:<40}restriction overhang (revcomp)\".format(fragment[39:44]))\n",
    "print(\"{}...       5' end of strand\".format(fragment[44:74]))\n",
    "print(\"...{}       3' end of strand\".format(fragment[-74:-44]))\n",
    "print(\"{:<40}poly-A tail\".format(fragment[-44:-34]))\n",
    "print(\"{:<40}adapter II\".format(fragment[-33:]))"
   ]
  },
  {
   "cell_type": "markdown",
   "metadata": {},
   "source": [
    "### Similar and related protocols\n",
    "The steps involved in a RAD-seq library preparation are in fact common to many types of genomic library preparations. Often different variants of a method exist that differ in the types of equipment that are required, and/or in the cost of the reagents that are involved. For example, the cost of a machine to *shear* DNA is quite expensive, as are the adapters that can bind to poly-A labeled sheared ends. An alternative RAD-seq approach called ddRAD has become popular in recent years that avoids this step by instead using two digestion enzymes such that both ends of a DNA fragment can use ligation to attach adapters. \n",
    "\n",
    "### tagmentation\n",
    "We will learn more later about another method for fragmenting genomic DNA called *tagmentation*. This approach uses modified transposomes that have incorporated adapter sequences and insert themselves into a DNA sample to create double-stranded breaks that leave adapters as overhanging ends. Similar to RAD-seq this overhanging end leaves a target that can be used to ligate additional barcodes or tags. We will revisit this method when we return to nanopore sequencing prep methods. "
   ]
  },
  {
   "cell_type": "markdown",
   "metadata": {},
   "source": [
    "<div class=\"alert alert-success\">\n",
    "    <b>[4] Question:</b> \n",
    "   \n",
    "How can a RAD-seq protocol be modified to sample more densely throughout a genome?\n",
    "\n",
    "</div>"
   ]
  },
  {
   "cell_type": "code",
   "execution_count": 18,
   "metadata": {},
   "outputs": [],
   "source": [
    "# answer here"
   ]
  },
  {
   "cell_type": "markdown",
   "metadata": {},
   "source": [
    "<div class=\"alert alert-success\">\n",
    "    <b>[5] Question:</b> \n",
    "    What does the term <i>multiplexing</i> mean? Why is this used in RAD-seq and other genomic library preparations?\n",
    "</div>"
   ]
  },
  {
   "cell_type": "code",
   "execution_count": 19,
   "metadata": {},
   "outputs": [],
   "source": [
    "# answer here"
   ]
  }
 ],
 "metadata": {
  "kernelspec": {
   "display_name": "Python 3",
   "language": "python",
   "name": "python3"
  },
  "language_info": {
   "codemirror_mode": {
    "name": "ipython",
    "version": 3
   },
   "file_extension": ".py",
   "mimetype": "text/x-python",
   "name": "python",
   "nbconvert_exporter": "python",
   "pygments_lexer": "ipython3",
   "version": "3.6.7"
  }
 },
 "nbformat": 4,
 "nbformat_minor": 2
}
